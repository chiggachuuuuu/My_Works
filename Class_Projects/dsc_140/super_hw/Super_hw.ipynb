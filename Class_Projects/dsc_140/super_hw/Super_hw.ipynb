{
 "cells": [
  {
   "cell_type": "code",
   "execution_count": 1,
   "id": "c34ebff2-e7dc-4a2d-9aa1-d174698ef87b",
   "metadata": {},
   "outputs": [],
   "source": [
    "import numpy as np\n",
    "import pandas as pd"
   ]
  },
  {
   "cell_type": "markdown",
   "id": "878e9c11-f927-4cf8-bd71-6b7fc8b76b87",
   "metadata": {},
   "source": [
    "### Programming Problem 1. (Classifier Competition)"
   ]
  },
  {
   "cell_type": "code",
   "execution_count": 654,
   "id": "a0d24c16-0c97-4070-8081-a6bc38e3a961",
   "metadata": {},
   "outputs": [],
   "source": [
    "def get_features(words):\n",
    "    features = []\n",
    "    letters = set(\"abcdefghijklmnopqrstuvwxyz\")\n",
    "    suffixes = []\n",
    "    for word in words:\n",
    "        suffixes.append(word[-3:])\n",
    "    for word in words:\n",
    "        word = word.lower()\n",
    "        uni_counts = {}\n",
    "        bi_counts = {}\n",
    "        suffix_counts = {}\n",
    "        for letter in word:\n",
    "            if letter in letters:\n",
    "                if letter in uni_counts:\n",
    "                    uni_counts[letter] += 1\n",
    "                else:\n",
    "                    uni_counts[letter] = 1\n",
    "        for i in range(len(word) - 1):\n",
    "            bi = word[i:i+2]\n",
    "            if bi in bi_counts:\n",
    "                bi_counts[bi] += 1\n",
    "            else:\n",
    "                bi_counts[bi] = 1\n",
    "        for suffix in suffixes:\n",
    "            if word.endswith(suffix):\n",
    "                suffix_counts[suffix] = 1\n",
    "            else:\n",
    "                suffix_counts[suffix] = 0  \n",
    "        feature_vector = {**uni_counts, **bi_counts, **suffix_counts}\n",
    "        features.append(feature_vector)\n",
    "    \n",
    "    return features, suffixes\n",
    "\n",
    "def train(train_words, train_labels):\n",
    "    train_features, train_suffixes = get_features(train_words)\n",
    "    prior_probs = {\"spanish\": train_labels.count(\"spanish\") / len(train_labels), \"french\": train_labels.count(\"french\") / len(train_labels)}\n",
    "    feature_counts = {\"spanish\": {}, \"french\": {}}\n",
    "    total_counts = {\"spanish\": 0, \"french\": 0}\n",
    "    for i, features in enumerate(train_features):\n",
    "        label = train_labels[i]\n",
    "        for feature, count in features.items():\n",
    "            if feature not in feature_counts[label]:\n",
    "                feature_counts[label][feature] = 0\n",
    "            feature_counts[label][feature] += count\n",
    "            total_counts[label] += count\n",
    "    feature_probs = {\n",
    "        \"spanish\": {feature: feature_counts[\"spanish\"][feature] / total_counts[\"spanish\"] for feature in feature_counts[\"spanish\"]},\n",
    "        \"french\": {feature: feature_counts[\"french\"][feature] / total_counts[\"french\"] for feature in feature_counts[\"french\"]}\n",
    "    }\n",
    "    \n",
    "    return prior_probs, feature_probs\n",
    "\n",
    "def predict(test_words, prior_probs, feature_probs):\n",
    "    test_features, test_suffixes = get_features(test_words)\n",
    "    predictions = []\n",
    "    \n",
    "    for features in test_features:\n",
    "        spanish_prob = prior_probs[\"spanish\"]\n",
    "        french_prob = prior_probs[\"french\"]\n",
    "        for feature, count in features.items():\n",
    "            if feature in feature_probs[\"spanish\"]:\n",
    "                spanish_prob *= feature_probs[\"spanish\"][feature] ** count\n",
    "            if feature in feature_probs[\"french\"]:\n",
    "                french_prob *= feature_probs[\"french\"][feature] ** count\n",
    "        for suffix in test_suffixes:\n",
    "            if suffix in features and features[suffix] == 1:\n",
    "                if suffix in feature_probs[\"spanish\"]:\n",
    "                    spanish_prob *= feature_probs[\"spanish\"][suffix]\n",
    "                else:\n",
    "                    spanish_prob *= 1\n",
    "                if suffix in feature_probs[\"french\"]:\n",
    "                    french_prob *= feature_probs[\"french\"][suffix]\n",
    "                else:\n",
    "                    french_prob *= 1\n",
    "        if spanish_prob > french_prob:\n",
    "            predictions.append(\"spanish\")\n",
    "        else:\n",
    "            predictions.append(\"french\")  \n",
    "    return predictions\n",
    "\n",
    "def classify(train_words, train_labels, test_words):\n",
    "    train_labels = list(train_labels) \n",
    "    prior_probs, feature_probs= train(train_words, train_labels)\n",
    "    return predict(test_words, prior_probs, feature_probs)\n"
   ]
  },
  {
   "cell_type": "code",
   "execution_count": 657,
   "id": "a693240a-ded6-4f1a-abcd-c35c61b7aa66",
   "metadata": {},
   "outputs": [],
   "source": [
    "file_path_1 = \"train.csv\"\n",
    "tra = pd.read_csv(file_path_1)\n",
    "train_words = tra[\"word\"].tolist()\n",
    "train_labels = tra[\"label\"].tolist()\n",
    "file_path_2 = \"test_3.csv\"\n",
    "test = pd.read_csv(file_path_2)\n",
    "test_words = test[\"word\"].tolist()\n",
    "test_labels = test[\"label\"].tolist()\n",
    "hh = classify(train_words, train_labels, test_words)"
   ]
  },
  {
   "cell_type": "code",
   "execution_count": 658,
   "id": "9ae769e8-a52c-4d7e-8866-098759a5d443",
   "metadata": {},
   "outputs": [
    {
     "data": {
      "text/plain": [
       "0.8085"
      ]
     },
     "execution_count": 658,
     "metadata": {},
     "output_type": "execute_result"
    }
   ],
   "source": [
    "(np.array(hh) == np.array(test_labels)).mean()"
   ]
  },
  {
   "cell_type": "code",
   "execution_count": null,
   "id": "02beef06-0fd5-4079-8b4b-2bc0d9309129",
   "metadata": {},
   "outputs": [],
   "source": []
  },
  {
   "cell_type": "markdown",
   "id": "0b071e16-ae1a-4f4a-87cf-90a2cad4b552",
   "metadata": {},
   "source": [
    "### Problem 1"
   ]
  },
  {
   "cell_type": "code",
   "execution_count": 1,
   "id": "05efd2de-10cf-450a-9eb8-66779570772e",
   "metadata": {},
   "outputs": [],
   "source": [
    "import numpy as np\n",
    "from scipy.optimize import fmin\n",
    "import matplotlib.pyplot as plt\n",
    "\n",
    "data = np.genfromtxt('data.csv', delimiter=',')\n",
    "x, y = data[:, 0], data[:, 1]"
   ]
  },
  {
   "cell_type": "markdown",
   "id": "a5233e0b-32e8-4339-8844-66665a58f12b",
   "metadata": {},
   "source": [
    "#### (a)"
   ]
  },
  {
   "cell_type": "code",
   "execution_count": 669,
   "id": "d7fece48-3e4c-41c9-8b8a-a624a9993cbf",
   "metadata": {},
   "outputs": [],
   "source": [
    "def mse(w1):\n",
    "    w0 = 2\n",
    "    h_x = w0 + w1 * x\n",
    "    return np.mean((h_x - y) ** 2)"
   ]
  },
  {
   "cell_type": "code",
   "execution_count": 670,
   "id": "2dd1c6d6-f022-4b72-b277-3795c507db3c",
   "metadata": {},
   "outputs": [
    {
     "data": {
      "text/plain": [
       "139.60271462"
      ]
     },
     "execution_count": 670,
     "metadata": {},
     "output_type": "execute_result"
    }
   ],
   "source": [
    "mse(1)"
   ]
  },
  {
   "cell_type": "markdown",
   "id": "f99ed042-16aa-4f38-a8b0-d330e56f7f6b",
   "metadata": {},
   "source": [
    "#### (b)"
   ]
  },
  {
   "cell_type": "code",
   "execution_count": 675,
   "id": "a96c4e74-e634-4255-be72-dda4fb8d2061",
   "metadata": {},
   "outputs": [],
   "source": [
    "def log_likelihood(w1):\n",
    "    sigma = 4\n",
    "    w0 = 2\n",
    "    h_x = w0 + w1 * x\n",
    "    return -np.sum(((h_x - y) ** 2) / (2 * sigma**2)) - len(x) * np.log(np.sqrt(2 * np.pi) * sigma)\n"
   ]
  },
  {
   "cell_type": "code",
   "execution_count": 676,
   "id": "de23a1d7-6726-45b2-9796-40f59389b109",
   "metadata": {},
   "outputs": [
    {
     "data": {
      "text/plain": [
       "-333.3908863099782"
      ]
     },
     "execution_count": 676,
     "metadata": {},
     "output_type": "execute_result"
    }
   ],
   "source": [
    "log_likelihood(1)"
   ]
  },
  {
   "cell_type": "markdown",
   "id": "3db1ed78-e84c-4535-9952-e1e96a2e2c10",
   "metadata": {},
   "source": [
    "#### (c)"
   ]
  },
  {
   "cell_type": "code",
   "execution_count": 686,
   "id": "caa4c252-8e8d-4606-acad-85b631066031",
   "metadata": {},
   "outputs": [
    {
     "name": "stdout",
     "output_type": "stream",
     "text": [
      "Optimization terminated successfully.\n",
      "         Current function value: 14.069906\n",
      "         Iterations: 28\n",
      "         Function evaluations: 56\n"
     ]
    }
   ],
   "source": [
    "w1_min = fmin(mse, 0)[0]"
   ]
  },
  {
   "cell_type": "code",
   "execution_count": 687,
   "id": "07199b37-dcdc-43f6-ad0b-d14631613047",
   "metadata": {},
   "outputs": [
    {
     "name": "stdout",
     "output_type": "stream",
     "text": [
      "The value of w1 that minimizes the mean squared error is w1 = 3.0071875000000032\n"
     ]
    }
   ],
   "source": [
    "print(f'The value of w1 that minimizes the mean squared error is w1 = {w1_min}')"
   ]
  },
  {
   "cell_type": "code",
   "execution_count": 688,
   "id": "bbb44f7c-748e-418c-b203-b011eaf619ed",
   "metadata": {},
   "outputs": [
    {
     "data": {
      "text/plain": [
       "2.980895446904831"
      ]
     },
     "execution_count": 688,
     "metadata": {},
     "output_type": "execute_result"
    }
   ],
   "source": [
    "closed_form_sol_w1 = np.cov(x, y, bias=True)[0, 1] / np.var(x)\n",
    "closed_form_sol_w1"
   ]
  },
  {
   "cell_type": "markdown",
   "id": "591eb159-7c0d-4381-b603-f4144f262165",
   "metadata": {},
   "source": [
    "#### 3.0072 is approximately 2.98 so I think I got it right"
   ]
  },
  {
   "cell_type": "code",
   "execution_count": null,
   "id": "1bd455d4-a84f-4244-bff9-40d91dc4066e",
   "metadata": {},
   "outputs": [],
   "source": []
  },
  {
   "cell_type": "markdown",
   "id": "c90b4906-be13-4e0a-8123-4834a3ec9b68",
   "metadata": {},
   "source": [
    "#### (d)"
   ]
  },
  {
   "cell_type": "code",
   "execution_count": 689,
   "id": "35a8ccc3-4b6c-4510-bf88-663ec8d5d1d2",
   "metadata": {},
   "outputs": [],
   "source": [
    "def neg_log_likelihood(w1):\n",
    "    return -log_likelihood(w1)"
   ]
  },
  {
   "cell_type": "code",
   "execution_count": 692,
   "id": "5fd4c049-6620-4a65-9ea7-d6c5c484e2e4",
   "metadata": {},
   "outputs": [
    {
     "name": "stdout",
     "output_type": "stream",
     "text": [
      "Optimization terminated successfully.\n",
      "         Current function value: 137.245873\n",
      "         Iterations: 28\n",
      "         Function evaluations: 56\n"
     ]
    }
   ],
   "source": [
    "w1_max = fmin(neg_log_likelihood, 0)[0]"
   ]
  },
  {
   "cell_type": "code",
   "execution_count": 695,
   "id": "6646dc3d-8212-4782-8c25-1ea754acfa4c",
   "metadata": {},
   "outputs": [
    {
     "name": "stdout",
     "output_type": "stream",
     "text": [
      "The value of w1 that maximizes the log likelihood is w1 = 3.0071875000000032\n"
     ]
    }
   ],
   "source": [
    "print(f'The value of w1 that maximizes the log likelihood is w1 = {w1_max}')"
   ]
  },
  {
   "cell_type": "code",
   "execution_count": null,
   "id": "3e0f50b0-6cab-4f24-86c6-c201a0a0c31e",
   "metadata": {},
   "outputs": [],
   "source": []
  },
  {
   "cell_type": "markdown",
   "id": "64d9031d-c888-4539-a39d-e5e39782d309",
   "metadata": {},
   "source": [
    "#### (e)"
   ]
  },
  {
   "cell_type": "code",
   "execution_count": 710,
   "id": "8ecb4d05-da32-4de9-bf66-7c7ea29b132b",
   "metadata": {},
   "outputs": [
    {
     "data": {
      "image/png": "[encoded data removed]",
      "text/plain": [
       "<Figure size 1000x700 with 1 Axes>"
      ]
     },
     "metadata": {},
     "output_type": "display_data"
    }
   ],
   "source": [
    "w1s = np.arange(0,5,0.1)\n",
    "mses = [mse(w1) for w1 in w1s]\n",
    "log_likelihoods = [log_likelihood(w1) for w1 in w1s]\n",
    "plt.figure(figsize=(10, 7))\n",
    "plt.plot(w1s, mses, label=\"MSE(W1)\", color=\"red\")\n",
    "plt.plot(w1s, log_likelihoods, label=\"Log Likelihood(W1)\", color=\"blue\")\n",
    "plt.axvline(x=w1_min, color=\"red\", linestyle=\"--\", label=f\"W1 that minimize MSE (w1 = {w1_min})\")\n",
    "plt.axvline(x=w1_max, color=\"blue\", linestyle=\":\", label=f\"W1 that maximize Log Likelihood (w1={w1_max})\")\n",
    "plt.xlabel(\"w1\")\n",
    "plt.ylabel(\"MSE and Log Likelihood Value\")\n",
    "plt.title(\"MSE and Log Likelihood\")\n",
    "plt.legend()\n",
    "plt.show()"
   ]
  },
  {
   "cell_type": "code",
   "execution_count": null,
   "id": "fef2cbbb-2e64-4c47-9016-bcaf8aac26e3",
   "metadata": {},
   "outputs": [],
   "source": []
  },
  {
   "cell_type": "code",
   "execution_count": 2,
   "id": "08d9edad-8131-462f-be45-4fde78819070",
   "metadata": {},
   "outputs": [
    {
     "data": {
      "text/plain": [
       "('Pressure', 1010.5, 0.21428571428571427)"
      ]
     },
     "execution_count": 2,
     "metadata": {},
     "output_type": "execute_result"
    }
   ],
   "source": [
    "data = pd.DataFrame({\n",
    "    \"Temperature\": [65, 72, 79, 55, 62, 71, 73],\n",
    "    \"Pressure\": [1001, 1003, 1030, 1022, 1025, 1010, 1011],\n",
    "    \"Rain\": [\"Yes\", \"Yes\", \"No\", \"Yes\", \"No\", \"Yes\", \"No\"]\n",
    "})\n",
    "\n",
    "# Function to compute Gini Impurity\n",
    "def gini_impurity(labels):\n",
    "    \"\"\"Calculate the Gini impurity for a set of labels.\"\"\"\n",
    "    unique_labels, counts = np.unique(labels, return_counts=True)\n",
    "    probabilities = counts / counts.sum()\n",
    "    return 1 - np.sum(probabilities ** 2)\n",
    "\n",
    "# Function to calculate Gini impurity of a split\n",
    "def gini_split(data, feature, threshold):\n",
    "    \"\"\"Calculate the Gini impurity for a given split.\"\"\"\n",
    "    left_split = data[data[feature] < threshold][\"Rain\"]\n",
    "    right_split = data[data[feature] >= threshold][\"Rain\"]\n",
    "    \n",
    "    # Calculate weighted Gini impurity\n",
    "    total = len(data)\n",
    "    gini_left = gini_impurity(left_split)\n",
    "    gini_right = gini_impurity(right_split)\n",
    "    \n",
    "    weighted_gini = (len(left_split) / total) * gini_left + (len(right_split) / total) * gini_right\n",
    "    return weighted_gini\n",
    "\n",
    "# Generate all possible threshold splits\n",
    "possible_splits = []\n",
    "for feature in [\"Temperature\", \"Pressure\"]:\n",
    "    unique_values = np.sort(data[feature].unique())\n",
    "    thresholds = (unique_values[:-1] + unique_values[1:]) / 2  # Midpoints between unique values\n",
    "    \n",
    "    for threshold in thresholds:\n",
    "        gini = gini_split(data, feature, threshold)\n",
    "        possible_splits.append((feature, threshold, gini))\n",
    "\n",
    "# Find the best split (minimum Gini impurity)\n",
    "best_split = min(possible_splits, key=lambda x: x[2])\n",
    "\n",
    "# Display results\n",
    "best_split"
   ]
  },
  {
   "cell_type": "code",
   "execution_count": 3,
   "id": "c259d3df-596a-42bd-91f6-6e8950974bfa",
   "metadata": {},
   "outputs": [
    {
     "data": {
      "text/plain": [
       "[('Temperature', 58.5, 0.42857142857142855),\n",
       " ('Temperature', 63.5, 0.4857142857142857),\n",
       " ('Temperature', 68.0, 0.47619047619047616),\n",
       " ('Temperature', 71.5, 0.40476190476190477),\n",
       " ('Temperature', 72.5, 0.22857142857142845),\n",
       " ('Temperature', 76.0, 0.38095238095238093),\n",
       " ('Pressure', 1002.0, 0.42857142857142855),\n",
       " ('Pressure', 1006.5, 0.34285714285714286),\n",
       " ('Pressure', 1010.5, 0.21428571428571427),\n",
       " ('Pressure', 1016.5, 0.40476190476190477),\n",
       " ('Pressure', 1023.5, 0.22857142857142845),\n",
       " ('Pressure', 1027.5, 0.38095238095238093)]"
      ]
     },
     "execution_count": 3,
     "metadata": {},
     "output_type": "execute_result"
    }
   ],
   "source": [
    "possible_splits"
   ]
  },
  {
   "cell_type": "code",
   "execution_count": 6,
   "id": "808c6c89-32e9-40af-83af-ea25376889f9",
   "metadata": {},
   "outputs": [
    {
     "name": "stdout",
     "output_type": "stream",
     "text": [
      "Gini Impurity Calculations for All Possible Splits:\n",
      "+-------------+-------------+----------+\n",
      "| Feature     |   Threshold |     Gini |\n",
      "+=============+=============+==========+\n",
      "| Temperature |        58.5 | 0.428571 |\n",
      "+-------------+-------------+----------+\n",
      "| Temperature |        63.5 | 0.485714 |\n",
      "+-------------+-------------+----------+\n",
      "| Temperature |        68   | 0.47619  |\n",
      "+-------------+-------------+----------+\n",
      "| Temperature |        71.5 | 0.404762 |\n",
      "+-------------+-------------+----------+\n",
      "| Temperature |        72.5 | 0.228571 |\n",
      "+-------------+-------------+----------+\n",
      "| Temperature |        76   | 0.380952 |\n",
      "+-------------+-------------+----------+\n",
      "| Pressure    |      1002   | 0.428571 |\n",
      "+-------------+-------------+----------+\n",
      "| Pressure    |      1006.5 | 0.342857 |\n",
      "+-------------+-------------+----------+\n",
      "| Pressure    |      1010.5 | 0.214286 |\n",
      "+-------------+-------------+----------+\n",
      "| Pressure    |      1016.5 | 0.404762 |\n",
      "+-------------+-------------+----------+\n",
      "| Pressure    |      1023.5 | 0.228571 |\n",
      "+-------------+-------------+----------+\n",
      "| Pressure    |      1027.5 | 0.380952 |\n",
      "+-------------+-------------+----------+\n",
      "\n",
      "Best Split:\n",
      "Feature      Pressure\n",
      "Threshold      1010.5\n",
      "Gini         0.214286\n",
      "Name: 8, dtype: object\n"
     ]
    }
   ],
   "source": [
    "# Store results for display\n",
    "gini_results = []\n",
    "\n",
    "# Generate all possible threshold splits for Temperature and Pressure\n",
    "for feature in [\"Temperature\", \"Pressure\"]:\n",
    "    unique_values = np.sort(data[feature].unique())\n",
    "    thresholds = (unique_values[:-1] + unique_values[1:]) / 2  # Midpoints between unique values\n",
    "\n",
    "    for threshold in thresholds:\n",
    "        gini = gini_split(data, feature, threshold)\n",
    "        gini_results.append((feature, threshold, gini))\n",
    "\n",
    "# Convert results to DataFrame for better readability\n",
    "gini_df = pd.DataFrame(gini_results, columns=[\"Feature\", \"Threshold\", \"Gini\"])\n",
    "\n",
    "# Find the best split (minimum Gini impurity)\n",
    "best_split = gini_df.loc[gini_df[\"Gini\"].idxmin()]\n",
    "\n",
    "from tabulate import tabulate\n",
    "\n",
    "# Convert results to a readable table format\n",
    "gini_table = tabulate(gini_results, headers=[\"Feature\", \"Threshold\", \"Gini\"], tablefmt=\"grid\")\n",
    "\n",
    "# Print the table\n",
    "print(\"Gini Impurity Calculations for All Possible Splits:\")\n",
    "print(gini_table)\n",
    "\n",
    "# Highlight the best split\n",
    "print(\"\\nBest Split:\")\n",
    "print(best_split)"
   ]
  },
  {
   "cell_type": "code",
   "execution_count": 7,
   "id": "09e6966a-63fe-4f3e-b5fe-05b1b3b7ba1d",
   "metadata": {},
   "outputs": [
    {
     "name": "stdout",
     "output_type": "stream",
     "text": [
      "Detailed Gini Impurity Calculations for All Possible Splits:\n",
      "\n",
      "Feature: Temperature\n",
      "\n",
      "  Threshold: 58.5\n",
      "    Left Split: ['Yes'] -> Gini: 0.0000\n",
      "    Right Split: ['Yes', 'Yes', 'No', 'No', 'Yes', 'No'] -> Gini: 0.5000\n",
      "    Weighted Gini: 0.4286\n",
      "\n",
      "  Threshold: 63.5\n",
      "    Left Split: ['Yes', 'No'] -> Gini: 0.5000\n",
      "    Right Split: ['Yes', 'Yes', 'No', 'Yes', 'No'] -> Gini: 0.4800\n",
      "    Weighted Gini: 0.4857\n",
      "\n",
      "  Threshold: 68.0\n",
      "    Left Split: ['Yes', 'Yes', 'No'] -> Gini: 0.4444\n",
      "    Right Split: ['Yes', 'No', 'Yes', 'No'] -> Gini: 0.5000\n",
      "    Weighted Gini: 0.4762\n",
      "\n",
      "  Threshold: 71.5\n",
      "    Left Split: ['Yes', 'Yes', 'No', 'Yes'] -> Gini: 0.3750\n",
      "    Right Split: ['Yes', 'No', 'No'] -> Gini: 0.4444\n",
      "    Weighted Gini: 0.4048\n",
      "\n",
      "  Threshold: 72.5\n",
      "    Left Split: ['Yes', 'Yes', 'Yes', 'No', 'Yes'] -> Gini: 0.3200\n",
      "    Right Split: ['No', 'No'] -> Gini: 0.0000\n",
      "    Weighted Gini: 0.2286\n",
      "\n",
      "  Threshold: 76.0\n",
      "    Left Split: ['Yes', 'Yes', 'Yes', 'No', 'Yes', 'No'] -> Gini: 0.4444\n",
      "    Right Split: ['No'] -> Gini: 0.0000\n",
      "    Weighted Gini: 0.3810\n",
      "\n",
      "Feature: Pressure\n",
      "\n",
      "  Threshold: 1002.0\n",
      "    Left Split: ['Yes'] -> Gini: 0.0000\n",
      "    Right Split: ['Yes', 'No', 'Yes', 'No', 'Yes', 'No'] -> Gini: 0.5000\n",
      "    Weighted Gini: 0.4286\n",
      "\n",
      "  Threshold: 1006.5\n",
      "    Left Split: ['Yes', 'Yes'] -> Gini: 0.0000\n",
      "    Right Split: ['No', 'Yes', 'No', 'Yes', 'No'] -> Gini: 0.4800\n",
      "    Weighted Gini: 0.3429\n",
      "\n",
      "  Threshold: 1010.5\n",
      "    Left Split: ['Yes', 'Yes', 'Yes'] -> Gini: 0.0000\n",
      "    Right Split: ['No', 'Yes', 'No', 'No'] -> Gini: 0.3750\n",
      "    Weighted Gini: 0.2143\n",
      "\n",
      "  Threshold: 1016.5\n",
      "    Left Split: ['Yes', 'Yes', 'Yes', 'No'] -> Gini: 0.3750\n",
      "    Right Split: ['No', 'Yes', 'No'] -> Gini: 0.4444\n",
      "    Weighted Gini: 0.4048\n",
      "\n",
      "  Threshold: 1023.5\n",
      "    Left Split: ['Yes', 'Yes', 'Yes', 'Yes', 'No'] -> Gini: 0.3200\n",
      "    Right Split: ['No', 'No'] -> Gini: 0.0000\n",
      "    Weighted Gini: 0.2286\n",
      "\n",
      "  Threshold: 1027.5\n",
      "    Left Split: ['Yes', 'Yes', 'Yes', 'No', 'Yes', 'No'] -> Gini: 0.4444\n",
      "    Right Split: ['No'] -> Gini: 0.0000\n",
      "    Weighted Gini: 0.3810\n",
      "\n",
      "\n",
      "Best Split (Min Gini Impurity):\n",
      "Feature: Pressure, Threshold: 1010.5, Gini: 0.2143\n"
     ]
    }
   ],
   "source": [
    "print(\"Detailed Gini Impurity Calculations for All Possible Splits:\\n\")\n",
    "\n",
    "for feature in [\"Temperature\", \"Pressure\"]:\n",
    "    unique_values = np.sort(data[feature].unique())\n",
    "    thresholds = (unique_values[:-1] + unique_values[1:]) / 2  # Midpoints between unique values\n",
    "\n",
    "    print(f\"Feature: {feature}\\n\")\n",
    "    for threshold in thresholds:\n",
    "        gini = gini_split(data, feature, threshold)\n",
    "        \n",
    "        # Manually compute left and right split\n",
    "        left_split = data[data[feature] < threshold][\"Rain\"]\n",
    "        right_split = data[data[feature] >= threshold][\"Rain\"]\n",
    "        \n",
    "        gini_left = gini_impurity(left_split)\n",
    "        gini_right = gini_impurity(right_split)\n",
    "        \n",
    "        print(f\"  Threshold: {threshold}\")\n",
    "        print(f\"    Left Split: {list(left_split.values)} -> Gini: {gini_left:.4f}\")\n",
    "        print(f\"    Right Split: {list(right_split.values)} -> Gini: {gini_right:.4f}\")\n",
    "        print(f\"    Weighted Gini: {gini:.4f}\\n\")\n",
    "\n",
    "# Print the best split separately\n",
    "print(\"\\nBest Split (Min Gini Impurity):\")\n",
    "print(f\"Feature: {best_split['Feature']}, Threshold: {best_split['Threshold']}, Gini: {best_split['Gini']:.4f}\")"
   ]
  },
  {
   "cell_type": "code",
   "execution_count": null,
   "id": "a1b80e0b-a34c-44d0-81a5-e7ad2668efac",
   "metadata": {},
   "outputs": [],
   "source": []
  }
 ],
 "metadata": {
  "kernelspec": {
   "display_name": "Python 3 (ipykernel)",
   "language": "python",
   "name": "python3"
  },
  "language_info": {
   "codemirror_mode": {
    "name": "ipython",
    "version": 3
   },
   "file_extension": ".py",
   "mimetype": "text/x-python",
   "name": "python",
   "nbconvert_exporter": "python",
   "pygments_lexer": "ipython3",
   "version": "3.10.14"
  }
 },
 "nbformat": 4,
 "nbformat_minor": 5
}
