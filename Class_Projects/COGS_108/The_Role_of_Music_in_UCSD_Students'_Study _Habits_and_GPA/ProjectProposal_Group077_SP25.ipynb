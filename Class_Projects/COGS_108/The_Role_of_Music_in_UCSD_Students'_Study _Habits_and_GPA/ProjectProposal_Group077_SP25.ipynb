{
 "cells": [
  {
   "cell_type": "markdown",
   "metadata": {},
   "source": [
    "# Focus in the Mix: The Role of Music in UCSD Students' Study Habits and GPA"
   ]
  },
  {
   "cell_type": "markdown",
   "metadata": {},
   "source": [
    "# Names\n",
    "\n",
    "- Christian Serrato\n",
    "- Lin Tian \n",
    "- Viann Perez Hernandez\n",
    "- Divyansh Kanodia\n",
    "- Chelsea McIntyre "
   ]
  },
  {
   "cell_type": "markdown",
   "metadata": {},
   "source": [
    "# Research Question"
   ]
  },
  {
   "cell_type": "markdown",
   "metadata": {},
   "source": [
    "How does the type, frequency, and context of music listening while studying relate to GPA among UCSD students?\n",
    "\n"
   ]
  },
  {
   "cell_type": "markdown",
   "metadata": {},
   "source": [
    "## Background and Prior Work"
   ]
  },
  {
   "cell_type": "markdown",
   "metadata": {},
   "source": [
    "Music is an integral part of daily life for many college students, including those at UCSD. However, its impact on academic performance measured in our study strictly as self reported GPA remains contested in scientific literature. Prior research suggests that music can influence several cognitive functions directly tied to academic success, such as attention, working memory, and arousal.\n",
    "\n",
    "For example, arousal theory posits that optimal levels of stimulation, such as soft background music, can heighten alertness and mental performance <a name=\"cite_ref-1\"></a>[<sup>1</sup>](#cite_note-1). Conversely, dual-task interference theory warns that music, especially with lyrics, may overload the brain’s limited processing capacity, disrupting tasks that require high cognitive effort <a name=\"cite_ref-2\"></a>[<sup>2</sup>](#cite_note-2). Working memory, which is essential for tasks like reading comprehension and problem-solving, is especially vulnerable to such distractions.\n",
    "\n",
    "Some studies indicate that instrumental music may enhance study focus and productivity <a name=\"cite_ref-3\"></a>[<sup>3</sup>](#cite_note-3), while lyrical or high-tempo genres may impair concentration and lower performance on memory based tasks <a name=\"cite_ref-4\"></a>[<sup>4</sup>](#cite_note-4). Despite these findings, there remains limited research examining how the context of music listening specifically whether it occurs during study sessions versus leisure time affects academic outcomes. Additionally, few studies have focused on UCSD students or considered daily lifestyle variables that may confound these effects.\n",
    "\n",
    "Our study aims to fill this gap. We define academic performance strictly as GPA to ensure clarity and consistency. We also account for potential confounds including academic major, weekly study hours, and sleep quality, all of which can influence GPA independently <a name=\"cite_ref-5\"></a>[<sup>5</sup>](#cite_note-5). Through a structured survey, we will quantify both the type of music (instrumental vs. lyrical) and the context (studying vs. relaxing), to assess how these factors correlate with GPA among UCSD students.\n",
    "\n",
    "---\n",
    "\n",
    "<a name=\"cite_note-1\"></a> [^](#cite_ref-1) Arousal Theory: Suggests optimal stimulation improves focus and attention (Anderson & Revelle, 1983). [https://doi.org/10.1016/B978-0-12-211460-7.50010-0]\n",
    "\n",
    "<a name=\"cite_note-2\"></a> [^](#cite_ref-2) Dual-task Interference: Listening with lyrics may reduce cognitive performance during high-effort tasks (Kämpfe, Sedlmeier, & Renkewitz, 2011). [https://doi.org/10.1016/j.psychsport.2010.12.002]\n",
    "\n",
    "<a name=\"cite_note-3\"></a> [^](#cite_ref-3) Music and Study Performance: Some studies suggest that instrumental music can improve study focus (Perham & Currie, 2014). [https://doi.org/10.1080/03004430.2012.721835]\n",
    "\n",
    "<a name=\"cite_note-4\"></a> [^](#cite_ref-4) Others report decreased reading comprehension when listening to lyrical music (Salamé & Baddeley, 1989). [https://doi.org/10.1016/0749-596X(89)90010-8]\n",
    "\n",
    "<a name=\"cite_note-5\"></a> [^](#cite_ref-5) Role of sleep and academic habits: Sleep quality and study time are independently linked to GPA (Hershner & Chervin, 2014). [https://doi.org/10.5665/sleep.3502]\n",
    "\n",
    "\n",
    "\n",
    "\n",
    "\n"
   ]
  },
  {
   "cell_type": "markdown",
   "metadata": {},
   "source": [
    "# Hypothesis\n"
   ]
  },
  {
   "cell_type": "markdown",
   "metadata": {},
   "source": [
    "\n",
    "We hypothesize that:\n",
    "\n",
    "•\tStudents who primarily listen to instrumental or low-volume music while studying will report higher GPAs compared to students who listen to lyrical or loud music.\n",
    "\n",
    "•\tStudents who restrict music listening mostly to studying (rather than casual daily use) will report better academic focus and higher GPAs.\n",
    "\n",
    "•\tCertain genres (e.g., classical, lo-fi, jazz) will be associated with better academic outcomes than others (e.g., rap/hip-hop, EDM).\n",
    "We expect this because instrumental music and careful listening habits may minimize cognitive distractions, helping students maintain concentration and reduce stress during study periods.\n"
   ]
  },
  {
   "cell_type": "markdown",
   "metadata": {},
   "source": [
    "# Data"
   ]
  },
  {
   "cell_type": "markdown",
   "metadata": {},
   "source": [
    "We will collect original survey data from UCSD undergraduate and graduate students through an anonymous online Google Form.\n",
    "We aim to gather 150–200 responses to allow for strong subgroup comparisons across majors, academic standing, and music habits.\n",
    "Variables to be collected:\n",
    "\n",
    "•\tAcademic background: Year, major, UCSD college affiliation, GPA, number of units enrolled\n",
    "\n",
    "•\tStudy habits: Hours studied per week, study location, study time of day\n",
    "\n",
    "•\tLifestyle factors: Sleep hours, caffeine intake, screen time, self-rated stress\n",
    "\n",
    "•\tMedia and music habits: Daily listening time, preferred settings, favorite genres, volume levels, preference for instrumental or lyrical music\n",
    "\n",
    "•\tPerceptions of focus and stress while listening to music\n",
    "\n",
    "•\tOptional open-ended responses about study habits\n",
    "\n",
    "\n",
    "The data will be collected via Google Forms and exported as a CSV file. Each row will represent one respondent; each column will represent one survey variable.\n",
    "\n",
    "Feasibility:\n",
    "\n",
    "Existing studies have shown that students are generally willing to self-report study habits, media use, and academic performance through anonymous online surveys. For example, a 2024 CSU Global study found meaningful patterns in self-reported GPA and music listening behaviors<a name=\"cite_ref-3\"></a>[<sup>3</sup>](#cite_note-3). Research from Harvard Health and Levine Music also demonstrates public interest in sharing lifestyle and mental focus data in academic contexts<a name=\"cite_ref-1\"></a>[<sup>1</sup>](#cite_note-1)<a name=\"cite_ref-2\"></a>[<sup>2</sup>](#cite_note-2). Our project builds on this foundation by focusing on the unique routines and academic conditions of UCSD students.\n"
   ]
  },
  {
   "cell_type": "markdown",
   "metadata": {},
   "source": [
    "# Ethics & Privacy"
   ]
  },
  {
   "cell_type": "markdown",
   "metadata": {},
   "source": [
    "Participation in our survey will be completely anonymous and voluntary. No identifying information such as names, emails, or IP addresses will be collected. Participants can skip any question they don’t feel comfortable answering.\n",
    "\n",
    "Our survey is designed to protect participant privacy and reduce bias, from survey design to analysis and final reporting.\n",
    "\n",
    "•\tAnonymous and voluntary: No personally identifying data (names, emails, IP addresses) will be collected.\n",
    "\n",
    "•\tMasked hypothesis: Music-related questions are part of a broader lifestyle survey. This helps prevent participants from guessing the purpose of the study and reduces bias in their responses. Questions are phrased neutrally ( “Which genres do you listen to while studying?” rather than “Does your preferred genre improve your GPA?”) to avoid leading responses.\n",
    "\n",
    "•\tNeutral wording: We carefully avoided any language that suggests one type of music is better or more effective than another.\n",
    "\n",
    "•\tShort and non-invasive: The survey takes less than three minutes to complete and does not ask sensitive or private questions. o\tWe reviewed Deon’s Ethics Checklist at every stage,  design, data collection, analysis, and reporting to ensure all practices align with best ethical standards.\n",
    "\n",
    "•\tAwareness of sampling limitations: Most responses will come from students who are part of online class communities. We recognize that this may not fully represent all UCSD students. During analysis, we will examine whether specific majors, years, or colleges are over or underrepresented.\n",
    "\n",
    "•\tBias monitoring and analysis: We will track demographic trends across responses and note any imbalances. If we see evidence of sampling bias, we will address it in our report and interpret the results with appropriate caution.\n",
    "\n",
    "•\tAggregate-only reporting: All analysis will be done at the group level. No individual responses will be identified or separated.\n",
    "\n",
    "•\tData deletion: After the project is complete, we will securely delete all raw response data.\n",
    "\n",
    "•\tUnintended Consequences & Responsible Interpretation: Although low-risk, our findings could be misinterpreted, for example, by stereotyping students who prefer certain music genres as “less focused” or “better learners.” We will explicitly note in our discussion that correlations do not imply causation, cautioning against labeling or ranking students based on their musical habits. \n",
    "\n",
    "•\tTransparency and consent: Participants are told that the survey is part of a general research project on student lifestyle and study habits. We don’t mention our specific research question to avoid influencing how people respond. However, participants will be notified that the survey data will only be used for this course project and won’t be shared outside our team or instructor.\n",
    "\n",
    "\n",
    "By addressing privacy, bias, and potential misuses of our results, we aim to conduct and report our study in a manner that is both ethically sound and socially responsible."
   ]
  },
  {
   "cell_type": "markdown",
   "metadata": {},
   "source": [
    "# Team Expectations "
   ]
  },
  {
   "cell_type": "markdown",
   "metadata": {},
   "source": [
    "\n",
    "•\tWe'll communicate weekly through Discord to stay organized.\n",
    "\n",
    "•\tWe'll divide tasks fairly across data cleaning, analysis, and writing.\n",
    "\n",
    "•\tWe'll meet all internal deadlines for drafts and checkpoints.\n",
    "\n",
    "•\tWe'll handle any conflicts respectfully and work together to solve problems.\n",
    "\n",
    "•\tWe'll follow the COGS 108 Team Policies and maintain academic honesty.\n"
   ]
  },
  {
   "cell_type": "markdown",
   "metadata": {},
   "source": [
    "# Project Timeline Proposal"
   ]
  },
  {
   "cell_type": "markdown",
   "metadata": {},
   "source": [
    "| Meeting Date | Meeting Time | Completed Before Meeting | Discuss at Meeting/Group Chat |\n",
    "|--------------|--------------|---------------------------|--------------------|\n",
    "| 4/25 (Week 5 – FRI) | 6 PM | Finalize proposal draft; revise ethics and background sections | Review TA feedback if available; finalize and submit proposal (due 4/30); finalize pilot survey plan |\n",
    "| 4/30 (Week 6 – WED) | — | Proposal due | Confirm submission; check Discord for TA notes |\n",
    "| 5/2 (Week 6 – FRI) | 6 PM | Launch survey and begin broad distribution | Troubleshoot distribution and assign roles for response tracking and data organization |\n",
    "| 5/7 (Week 7 – WED) | — | Midweek Discord check-in | Assess early responses; decide if an extra push or revision is needed |\n",
    "| 5/9 (Week 7 – FRI) | 6 PM | Begin cleaning raw data; encode categorical variables | Review early demographic balance; assign EDA prep and cleaning tasks |\n",
    "| 5/14 (Week 8 – WED) | — | Checkpoint #1: Data due | Confirm checkpoint submission via Discord; review any TA comments |\n",
    "| 5/16 (Week 8 – FRI) | 6 PM | Run full EDA and begin visualizations | Discuss patterns, outliers, and statistical plans; assign correlation/regression work |\n",
    "| 5/21 (Week 9 – WED) | — | Prepare Checkpoint #2 | Coordinate summary text, visuals, and insights for EDA checkpoint |\n",
    "| 5/23 (Week 9 – FRI) | 6 PM | Submit Checkpoint #2 (due 5/28) | Begin writing final report; split into methods, results, and discussion teams |\n",
    "| 5/30 (Week 10 – FRI) | 6 PM | Finalize draft report and GitHub materials | Peer review report and visualizations; finalize all figures and formatting |\n",
    "| 6/6 (Week 11 – FRI) | TBD if needed | Record and edit final video presentation | Submit final report, video, and complete peer evaluations (due 6/13) |\n",
    "\n"
   ]
  }
 ],
 "metadata": {
  "kernelspec": {
   "display_name": "Python 3 (ipykernel)",
   "language": "python",
   "name": "python3"
  },
  "language_info": {
   "codemirror_mode": {
    "name": "ipython",
    "version": 3
   },
   "file_extension": ".py",
   "mimetype": "text/x-python",
   "name": "python",
   "nbconvert_exporter": "python",
   "pygments_lexer": "ipython3",
   "version": "3.9.7"
  }
 },
 "nbformat": 4,
 "nbformat_minor": 2
}
